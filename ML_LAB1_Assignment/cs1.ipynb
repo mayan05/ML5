{
 "cells": [
  {
   "cell_type": "markdown",
   "id": "cc54d7ee",
   "metadata": {},
   "source": [
    "### Importing the libraries"
   ]
  },
  {
   "cell_type": "code",
   "execution_count": 44,
   "id": "ffdbf041",
   "metadata": {},
   "outputs": [],
   "source": [
    "import numpy as np\n",
    "import pandas as pd\n",
    "import matplotlib.pyplot as plt\n",
    "import seaborn as sns"
   ]
  },
  {
   "cell_type": "markdown",
   "id": "54472613",
   "metadata": {},
   "source": [
    "### Knowing the data"
   ]
  },
  {
   "cell_type": "code",
   "execution_count": 45,
   "id": "62a34624",
   "metadata": {},
   "outputs": [
    {
     "data": {
      "text/html": [
       "<div>\n",
       "<style scoped>\n",
       "    .dataframe tbody tr th:only-of-type {\n",
       "        vertical-align: middle;\n",
       "    }\n",
       "\n",
       "    .dataframe tbody tr th {\n",
       "        vertical-align: top;\n",
       "    }\n",
       "\n",
       "    .dataframe thead th {\n",
       "        text-align: right;\n",
       "    }\n",
       "</style>\n",
       "<table border=\"1\" class=\"dataframe\">\n",
       "  <thead>\n",
       "    <tr style=\"text-align: right;\">\n",
       "      <th></th>\n",
       "      <th>customer_id</th>\n",
       "      <th>age</th>\n",
       "      <th>gender</th>\n",
       "      <th>senior_citizen</th>\n",
       "      <th>partner</th>\n",
       "      <th>dependents</th>\n",
       "      <th>tenure</th>\n",
       "      <th>phone_service</th>\n",
       "      <th>multiple_lines</th>\n",
       "      <th>internet_service</th>\n",
       "      <th>...</th>\n",
       "      <th>streaming_tv</th>\n",
       "      <th>streaming_movies</th>\n",
       "      <th>contract</th>\n",
       "      <th>paperless_billing</th>\n",
       "      <th>payment_method</th>\n",
       "      <th>monthly_charges</th>\n",
       "      <th>total_charges</th>\n",
       "      <th>customer_satisfaction</th>\n",
       "      <th>support_calls</th>\n",
       "      <th>churn</th>\n",
       "    </tr>\n",
       "  </thead>\n",
       "  <tbody>\n",
       "    <tr>\n",
       "      <th>0</th>\n",
       "      <td>CUST_000001</td>\n",
       "      <td>52</td>\n",
       "      <td>Male</td>\n",
       "      <td>0</td>\n",
       "      <td>Yes</td>\n",
       "      <td>Yes</td>\n",
       "      <td>7</td>\n",
       "      <td>Yes</td>\n",
       "      <td>No</td>\n",
       "      <td>Fiber optic</td>\n",
       "      <td>...</td>\n",
       "      <td>Yes</td>\n",
       "      <td>No</td>\n",
       "      <td>One year</td>\n",
       "      <td>Yes</td>\n",
       "      <td>Electronic check</td>\n",
       "      <td>39.18</td>\n",
       "      <td>294.66</td>\n",
       "      <td>4</td>\n",
       "      <td>3</td>\n",
       "      <td>No</td>\n",
       "    </tr>\n",
       "    <tr>\n",
       "      <th>1</th>\n",
       "      <td>CUST_000002</td>\n",
       "      <td>42</td>\n",
       "      <td>Male</td>\n",
       "      <td>0</td>\n",
       "      <td>Yes</td>\n",
       "      <td>No</td>\n",
       "      <td>32</td>\n",
       "      <td>Yes</td>\n",
       "      <td>No</td>\n",
       "      <td>No</td>\n",
       "      <td>...</td>\n",
       "      <td>No internet service</td>\n",
       "      <td>No internet service</td>\n",
       "      <td>One year</td>\n",
       "      <td>Yes</td>\n",
       "      <td>Electronic check</td>\n",
       "      <td>40.36</td>\n",
       "      <td>1286.75</td>\n",
       "      <td>3</td>\n",
       "      <td>1</td>\n",
       "      <td>No</td>\n",
       "    </tr>\n",
       "    <tr>\n",
       "      <th>2</th>\n",
       "      <td>CUST_000003</td>\n",
       "      <td>54</td>\n",
       "      <td>Male</td>\n",
       "      <td>0</td>\n",
       "      <td>No</td>\n",
       "      <td>Yes</td>\n",
       "      <td>12</td>\n",
       "      <td>Yes</td>\n",
       "      <td>Yes</td>\n",
       "      <td>Fiber optic</td>\n",
       "      <td>...</td>\n",
       "      <td>Yes</td>\n",
       "      <td>Yes</td>\n",
       "      <td>Month-to-month</td>\n",
       "      <td>No</td>\n",
       "      <td>Bank transfer (automatic)</td>\n",
       "      <td>84.77</td>\n",
       "      <td>947.09</td>\n",
       "      <td>2</td>\n",
       "      <td>3</td>\n",
       "      <td>Yes</td>\n",
       "    </tr>\n",
       "  </tbody>\n",
       "</table>\n",
       "<p>3 rows × 24 columns</p>\n",
       "</div>"
      ],
      "text/plain": [
       "   customer_id  age gender  senior_citizen partner dependents  tenure  \\\n",
       "0  CUST_000001   52   Male               0     Yes        Yes       7   \n",
       "1  CUST_000002   42   Male               0     Yes         No      32   \n",
       "2  CUST_000003   54   Male               0      No        Yes      12   \n",
       "\n",
       "  phone_service multiple_lines internet_service  ...         streaming_tv  \\\n",
       "0           Yes             No      Fiber optic  ...                  Yes   \n",
       "1           Yes             No               No  ...  No internet service   \n",
       "2           Yes            Yes      Fiber optic  ...                  Yes   \n",
       "\n",
       "      streaming_movies        contract paperless_billing  \\\n",
       "0                   No        One year               Yes   \n",
       "1  No internet service        One year               Yes   \n",
       "2                  Yes  Month-to-month                No   \n",
       "\n",
       "              payment_method monthly_charges total_charges  \\\n",
       "0           Electronic check           39.18        294.66   \n",
       "1           Electronic check           40.36       1286.75   \n",
       "2  Bank transfer (automatic)           84.77        947.09   \n",
       "\n",
       "  customer_satisfaction support_calls  churn  \n",
       "0                     4             3     No  \n",
       "1                     3             1     No  \n",
       "2                     2             3    Yes  \n",
       "\n",
       "[3 rows x 24 columns]"
      ]
     },
     "execution_count": 45,
     "metadata": {},
     "output_type": "execute_result"
    }
   ],
   "source": [
    "df = pd.read_csv('./customer_churn_data.csv')\n",
    "df.head(3)"
   ]
  },
  {
   "cell_type": "code",
   "execution_count": 46,
   "id": "bed8d743",
   "metadata": {},
   "outputs": [
    {
     "data": {
      "text/plain": [
       "(10000, 24)"
      ]
     },
     "execution_count": 46,
     "metadata": {},
     "output_type": "execute_result"
    }
   ],
   "source": [
    "df.shape"
   ]
  },
  {
   "cell_type": "code",
   "execution_count": 47,
   "id": "13a7574c",
   "metadata": {},
   "outputs": [
    {
     "name": "stdout",
     "output_type": "stream",
     "text": [
      "<class 'pandas.core.frame.DataFrame'>\n",
      "RangeIndex: 10000 entries, 0 to 9999\n",
      "Data columns (total 24 columns):\n",
      " #   Column                 Non-Null Count  Dtype  \n",
      "---  ------                 --------------  -----  \n",
      " 0   customer_id            10000 non-null  object \n",
      " 1   age                    10000 non-null  int64  \n",
      " 2   gender                 10000 non-null  object \n",
      " 3   senior_citizen         10000 non-null  int64  \n",
      " 4   partner                10000 non-null  object \n",
      " 5   dependents             10000 non-null  object \n",
      " 6   tenure                 10000 non-null  int64  \n",
      " 7   phone_service          10000 non-null  object \n",
      " 8   multiple_lines         10000 non-null  object \n",
      " 9   internet_service       10000 non-null  object \n",
      " 10  online_security        10000 non-null  object \n",
      " 11  online_backup          10000 non-null  object \n",
      " 12  device_protection      10000 non-null  object \n",
      " 13  tech_support           10000 non-null  object \n",
      " 14  streaming_tv           10000 non-null  object \n",
      " 15  streaming_movies       10000 non-null  object \n",
      " 16  contract               10000 non-null  object \n",
      " 17  paperless_billing      10000 non-null  object \n",
      " 18  payment_method         10000 non-null  object \n",
      " 19  monthly_charges        10000 non-null  float64\n",
      " 20  total_charges          10000 non-null  float64\n",
      " 21  customer_satisfaction  10000 non-null  int64  \n",
      " 22  support_calls          10000 non-null  int64  \n",
      " 23  churn                  10000 non-null  object \n",
      "dtypes: float64(2), int64(5), object(17)\n",
      "memory usage: 1.8+ MB\n"
     ]
    }
   ],
   "source": [
    "df.info()"
   ]
  },
  {
   "cell_type": "code",
   "execution_count": 48,
   "id": "b37c8b4c",
   "metadata": {},
   "outputs": [
    {
     "data": {
      "text/plain": [
       "customer_id              0\n",
       "age                      0\n",
       "gender                   0\n",
       "senior_citizen           0\n",
       "partner                  0\n",
       "dependents               0\n",
       "tenure                   0\n",
       "phone_service            0\n",
       "multiple_lines           0\n",
       "internet_service         0\n",
       "online_security          0\n",
       "online_backup            0\n",
       "device_protection        0\n",
       "tech_support             0\n",
       "streaming_tv             0\n",
       "streaming_movies         0\n",
       "contract                 0\n",
       "paperless_billing        0\n",
       "payment_method           0\n",
       "monthly_charges          0\n",
       "total_charges            0\n",
       "customer_satisfaction    0\n",
       "support_calls            0\n",
       "churn                    0\n",
       "dtype: int64"
      ]
     },
     "execution_count": 48,
     "metadata": {},
     "output_type": "execute_result"
    }
   ],
   "source": [
    "df.isnull().sum()"
   ]
  },
  {
   "cell_type": "code",
   "execution_count": 49,
   "id": "c660abf9",
   "metadata": {},
   "outputs": [
    {
     "data": {
      "text/html": [
       "<div>\n",
       "<style scoped>\n",
       "    .dataframe tbody tr th:only-of-type {\n",
       "        vertical-align: middle;\n",
       "    }\n",
       "\n",
       "    .dataframe tbody tr th {\n",
       "        vertical-align: top;\n",
       "    }\n",
       "\n",
       "    .dataframe thead th {\n",
       "        text-align: right;\n",
       "    }\n",
       "</style>\n",
       "<table border=\"1\" class=\"dataframe\">\n",
       "  <thead>\n",
       "    <tr style=\"text-align: right;\">\n",
       "      <th></th>\n",
       "      <th>age</th>\n",
       "      <th>senior_citizen</th>\n",
       "      <th>tenure</th>\n",
       "      <th>monthly_charges</th>\n",
       "      <th>total_charges</th>\n",
       "      <th>customer_satisfaction</th>\n",
       "      <th>support_calls</th>\n",
       "    </tr>\n",
       "  </thead>\n",
       "  <tbody>\n",
       "    <tr>\n",
       "      <th>count</th>\n",
       "      <td>10000.000000</td>\n",
       "      <td>10000.000000</td>\n",
       "      <td>10000.000000</td>\n",
       "      <td>10000.000000</td>\n",
       "      <td>10000.000000</td>\n",
       "      <td>10000.000000</td>\n",
       "      <td>10000.000000</td>\n",
       "    </tr>\n",
       "    <tr>\n",
       "      <th>mean</th>\n",
       "      <td>44.662500</td>\n",
       "      <td>0.092300</td>\n",
       "      <td>22.216800</td>\n",
       "      <td>53.640204</td>\n",
       "      <td>1192.146321</td>\n",
       "      <td>3.399300</td>\n",
       "      <td>2.007400</td>\n",
       "    </tr>\n",
       "    <tr>\n",
       "      <th>std</th>\n",
       "      <td>14.397976</td>\n",
       "      <td>0.289463</td>\n",
       "      <td>19.963232</td>\n",
       "      <td>17.047669</td>\n",
       "      <td>1193.960345</td>\n",
       "      <td>1.069193</td>\n",
       "      <td>1.415184</td>\n",
       "    </tr>\n",
       "    <tr>\n",
       "      <th>min</th>\n",
       "      <td>18.000000</td>\n",
       "      <td>0.000000</td>\n",
       "      <td>1.000000</td>\n",
       "      <td>20.050000</td>\n",
       "      <td>20.320000</td>\n",
       "      <td>1.000000</td>\n",
       "      <td>0.000000</td>\n",
       "    </tr>\n",
       "    <tr>\n",
       "      <th>25%</th>\n",
       "      <td>34.000000</td>\n",
       "      <td>0.000000</td>\n",
       "      <td>6.000000</td>\n",
       "      <td>40.407500</td>\n",
       "      <td>306.305000</td>\n",
       "      <td>3.000000</td>\n",
       "      <td>1.000000</td>\n",
       "    </tr>\n",
       "    <tr>\n",
       "      <th>50%</th>\n",
       "      <td>44.000000</td>\n",
       "      <td>0.000000</td>\n",
       "      <td>16.000000</td>\n",
       "      <td>51.770000</td>\n",
       "      <td>796.955000</td>\n",
       "      <td>3.000000</td>\n",
       "      <td>2.000000</td>\n",
       "    </tr>\n",
       "    <tr>\n",
       "      <th>75%</th>\n",
       "      <td>55.000000</td>\n",
       "      <td>0.000000</td>\n",
       "      <td>33.000000</td>\n",
       "      <td>66.280000</td>\n",
       "      <td>1681.077500</td>\n",
       "      <td>4.000000</td>\n",
       "      <td>3.000000</td>\n",
       "    </tr>\n",
       "    <tr>\n",
       "      <th>max</th>\n",
       "      <td>80.000000</td>\n",
       "      <td>1.000000</td>\n",
       "      <td>72.000000</td>\n",
       "      <td>111.810000</td>\n",
       "      <td>7078.800000</td>\n",
       "      <td>5.000000</td>\n",
       "      <td>9.000000</td>\n",
       "    </tr>\n",
       "  </tbody>\n",
       "</table>\n",
       "</div>"
      ],
      "text/plain": [
       "                age  senior_citizen        tenure  monthly_charges  \\\n",
       "count  10000.000000    10000.000000  10000.000000     10000.000000   \n",
       "mean      44.662500        0.092300     22.216800        53.640204   \n",
       "std       14.397976        0.289463     19.963232        17.047669   \n",
       "min       18.000000        0.000000      1.000000        20.050000   \n",
       "25%       34.000000        0.000000      6.000000        40.407500   \n",
       "50%       44.000000        0.000000     16.000000        51.770000   \n",
       "75%       55.000000        0.000000     33.000000        66.280000   \n",
       "max       80.000000        1.000000     72.000000       111.810000   \n",
       "\n",
       "       total_charges  customer_satisfaction  support_calls  \n",
       "count   10000.000000           10000.000000   10000.000000  \n",
       "mean     1192.146321               3.399300       2.007400  \n",
       "std      1193.960345               1.069193       1.415184  \n",
       "min        20.320000               1.000000       0.000000  \n",
       "25%       306.305000               3.000000       1.000000  \n",
       "50%       796.955000               3.000000       2.000000  \n",
       "75%      1681.077500               4.000000       3.000000  \n",
       "max      7078.800000               5.000000       9.000000  "
      ]
     },
     "execution_count": 49,
     "metadata": {},
     "output_type": "execute_result"
    }
   ],
   "source": [
    "df.describe()"
   ]
  },
  {
   "cell_type": "code",
   "execution_count": 50,
   "id": "016fef08",
   "metadata": {},
   "outputs": [
    {
     "data": {
      "text/plain": [
       "customer_id               object\n",
       "age                        int64\n",
       "gender                    object\n",
       "senior_citizen             int64\n",
       "partner                   object\n",
       "dependents                object\n",
       "tenure                     int64\n",
       "phone_service             object\n",
       "multiple_lines            object\n",
       "internet_service          object\n",
       "online_security           object\n",
       "online_backup             object\n",
       "device_protection         object\n",
       "tech_support              object\n",
       "streaming_tv              object\n",
       "streaming_movies          object\n",
       "contract                  object\n",
       "paperless_billing         object\n",
       "payment_method            object\n",
       "monthly_charges          float64\n",
       "total_charges            float64\n",
       "customer_satisfaction      int64\n",
       "support_calls              int64\n",
       "churn                     object\n",
       "dtype: object"
      ]
     },
     "execution_count": 50,
     "metadata": {},
     "output_type": "execute_result"
    }
   ],
   "source": [
    "df.dtypes"
   ]
  },
  {
   "cell_type": "markdown",
   "id": "e75935ad",
   "metadata": {},
   "source": [
    "### Cleaning the data"
   ]
  },
  {
   "cell_type": "code",
   "execution_count": 51,
   "id": "e4bf1d58",
   "metadata": {},
   "outputs": [],
   "source": [
    "df.drop(columns=['customer_id'], axis=1,inplace=True)"
   ]
  },
  {
   "cell_type": "code",
   "execution_count": 52,
   "id": "0a5033d0",
   "metadata": {},
   "outputs": [
    {
     "name": "stdout",
     "output_type": "stream",
     "text": [
      "['gender', 'partner', 'dependents', 'phone_service', 'multiple_lines', 'internet_service', 'online_security', 'online_backup', 'device_protection', 'tech_support', 'streaming_tv', 'streaming_movies', 'contract', 'paperless_billing', 'payment_method', 'churn']\n"
     ]
    }
   ],
   "source": [
    "object_columns = df.select_dtypes(include='object').columns.tolist()\n",
    "print(object_columns)"
   ]
  },
  {
   "cell_type": "code",
   "execution_count": 53,
   "id": "7d0eda31",
   "metadata": {},
   "outputs": [],
   "source": [
    "from sklearn.preprocessing import LabelEncoder\n",
    "\n",
    "for col in object_columns:\n",
    "    le = LabelEncoder()\n",
    "    df[col] = le.fit_transform(df[col])"
   ]
  },
  {
   "cell_type": "code",
   "execution_count": 55,
   "id": "aa89294c",
   "metadata": {},
   "outputs": [],
   "source": [
    "from sklearn.preprocessing import StandardScaler\n",
    "scaler = StandardScaler()\n",
    "for col in ['tenure', 'monthly_charges', 'total_charges']:\n",
    "    df[col] = scaler.fit_transform(df[[col]])"
   ]
  },
  {
   "cell_type": "markdown",
   "id": "36baa7bf",
   "metadata": {},
   "source": [
    "# Model training"
   ]
  },
  {
   "cell_type": "code",
   "execution_count": 56,
   "id": "76995c57",
   "metadata": {},
   "outputs": [],
   "source": [
    "from sklearn.model_selection import train_test_split\n",
    "X = df.drop('churn', axis=1)\n",
    "y = df['churn']\n",
    "X_train, X_test, y_train, y_test = train_test_split(X, y, test_size=0.2, random_state=42)"
   ]
  },
  {
   "cell_type": "code",
   "execution_count": 87,
   "id": "1afbab01",
   "metadata": {},
   "outputs": [],
   "source": [
    "from sklearn.linear_model import LogisticRegression\n",
    "from sklearn.ensemble import RandomForestClassifier\n",
    "from sklearn.svm import SVC\n",
    "from sklearn.tree import DecisionTreeClassifier\n",
    "from sklearn.metrics import accuracy_score, precision_score, recall_score, f1_score"
   ]
  },
  {
   "cell_type": "markdown",
   "id": "1f3ce65f",
   "metadata": {},
   "source": [
    "## Logistic Regression"
   ]
  },
  {
   "cell_type": "code",
   "execution_count": 88,
   "id": "2b0c8f64",
   "metadata": {},
   "outputs": [
    {
     "name": "stdout",
     "output_type": "stream",
     "text": [
      "Logistic Regression Accuracy: 0.78\n",
      "Logistic Regression Precission: 0.60\n",
      "Logistic Regression Recall: 0.20\n",
      "Logistic Regression F1 Score: 0.30\n"
     ]
    },
    {
     "name": "stderr",
     "output_type": "stream",
     "text": [
      "c:\\Users\\mayan\\AppData\\Local\\Programs\\Python\\Python313\\Lib\\site-packages\\sklearn\\linear_model\\_logistic.py:465: ConvergenceWarning: lbfgs failed to converge (status=1):\n",
      "STOP: TOTAL NO. OF ITERATIONS REACHED LIMIT.\n",
      "\n",
      "Increase the number of iterations (max_iter) or scale the data as shown in:\n",
      "    https://scikit-learn.org/stable/modules/preprocessing.html\n",
      "Please also refer to the documentation for alternative solver options:\n",
      "    https://scikit-learn.org/stable/modules/linear_model.html#logistic-regression\n",
      "  n_iter_i = _check_optimize_result(\n"
     ]
    }
   ],
   "source": [
    "lr = LogisticRegression()\n",
    "lr = lr.fit(X_train, y_train)\n",
    "y_pred_lr = lr.predict(X_test)\n",
    "\n",
    "print(f\"Logistic Regression Accuracy: {accuracy_score(y_test, y_pred_lr):.2f}\")\n",
    "print(f\"Logistic Regression Precission: {precision_score(y_test, y_pred_lr):.2f}\")\n",
    "print(f\"Logistic Regression Recall: {recall_score(y_test, y_pred_lr):.2f}\")\n",
    "print(f\"Logistic Regression F1 Score: {f1_score(y_test, y_pred_lr):.2f}\")"
   ]
  },
  {
   "cell_type": "markdown",
   "id": "3b7a437e",
   "metadata": {},
   "source": [
    "## Decision Tree"
   ]
  },
  {
   "cell_type": "code",
   "execution_count": 89,
   "id": "1ef8391e",
   "metadata": {},
   "outputs": [
    {
     "name": "stdout",
     "output_type": "stream",
     "text": [
      "Decision Tree Accuracy: 0.70\n",
      "Decision Tree Precission: 0.36\n",
      "Decision Tree Recall: 0.37\n",
      "Decision Tree F1 Score: 0.37\n"
     ]
    }
   ],
   "source": [
    "dtree = DecisionTreeClassifier(max_depth=100, max_features='log2')\n",
    "dtree.fit(X_train, y_train)\n",
    "y_pred_dtree = dtree.predict(X_test)\n",
    "\n",
    "print(f\"Decision Tree Accuracy: {accuracy_score(y_test, y_pred_dtree):.2f}\")\n",
    "print(f\"Decision Tree Precission: {precision_score(y_test, y_pred_dtree):.2f}\")\n",
    "print(f\"Decision Tree Recall: {recall_score(y_test, y_pred_dtree):.2f}\")\n",
    "print(f\"Decision Tree F1 Score: {f1_score(y_test, y_pred_dtree):.2f}\")"
   ]
  },
  {
   "cell_type": "markdown",
   "id": "8ed0a9ef",
   "metadata": {},
   "source": [
    "## Random Forest"
   ]
  },
  {
   "cell_type": "code",
   "execution_count": 90,
   "id": "846455cc",
   "metadata": {},
   "outputs": [
    {
     "name": "stdout",
     "output_type": "stream",
     "text": [
      "Random Forest Accuracy: 0.79\n",
      "Random Forest Precission: 0.61\n",
      "Random Forest Recall: 0.23\n",
      "Random Forest F1 Score: 0.33\n"
     ]
    }
   ],
   "source": [
    "rf = RandomForestClassifier(n_estimators=200, max_depth=None, random_state=42, n_jobs=-1)\n",
    "rf.fit(X_train, y_train)\n",
    "y_pred_rf = rf.predict(X_test)\n",
    "\n",
    "print(f\"Random Forest Accuracy: {accuracy_score(y_test, y_pred_rf):.2f}\")\n",
    "print(f\"Random Forest Precission: {precision_score(y_test, y_pred_rf):.2f}\")\n",
    "print(f\"Random Forest Recall: {recall_score(y_test, y_pred_rf):.2f}\")\n",
    "print(f\"Random Forest F1 Score: {f1_score(y_test, y_pred_rf):.2f}\")\n"
   ]
  },
  {
   "cell_type": "markdown",
   "id": "8c03e649",
   "metadata": {},
   "source": [
    "## Support Vector Machine (SVM)"
   ]
  },
  {
   "cell_type": "code",
   "execution_count": 91,
   "id": "94ff52df",
   "metadata": {},
   "outputs": [
    {
     "name": "stdout",
     "output_type": "stream",
     "text": [
      "SVM Accuracy: 0.77\n",
      "SVM Precission: 0.00\n",
      "SVM Recall: 0.00\n",
      "SVM F1 Score: 0.00\n"
     ]
    },
    {
     "name": "stderr",
     "output_type": "stream",
     "text": [
      "c:\\Users\\mayan\\AppData\\Local\\Programs\\Python\\Python313\\Lib\\site-packages\\sklearn\\metrics\\_classification.py:1565: UndefinedMetricWarning: Precision is ill-defined and being set to 0.0 due to no predicted samples. Use `zero_division` parameter to control this behavior.\n",
      "  _warn_prf(average, modifier, f\"{metric.capitalize()} is\", len(result))\n"
     ]
    }
   ],
   "source": [
    "svm_clf = SVC(kernel='rbf', C=1.0, gamma='scale', probability=False, random_state=42)\n",
    "svm_clf.fit(X_train, y_train)\n",
    "y_pred_svm = svm_clf.predict(X_test)\n",
    "\n",
    "print(f\"SVM Accuracy: {accuracy_score(y_test, y_pred_svm):.2f}\")\n",
    "print(f\"SVM Precission: {precision_score(y_test, y_pred_svm):.2f}\")\n",
    "print(f\"SVM Recall: {recall_score(y_test, y_pred_svm):.2f}\")\n",
    "print(f\"SVM F1 Score: {f1_score(y_test, y_pred_svm):.2f}\")\n"
   ]
  }
 ],
 "metadata": {
  "kernelspec": {
   "display_name": "Python 3",
   "language": "python",
   "name": "python3"
  },
  "language_info": {
   "codemirror_mode": {
    "name": "ipython",
    "version": 3
   },
   "file_extension": ".py",
   "mimetype": "text/x-python",
   "name": "python",
   "nbconvert_exporter": "python",
   "pygments_lexer": "ipython3",
   "version": "3.13.3"
  }
 },
 "nbformat": 4,
 "nbformat_minor": 5
}
